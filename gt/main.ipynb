{
 "cells": [
  {
   "cell_type": "markdown",
   "metadata": {},
   "source": [
    "### 使用PaddleDetection的 Faster RCNN 模型，对给出的脚本进行修改"
   ]
  },
  {
   "cell_type": "code",
   "execution_count": null,
   "metadata": {
    "execution": {
     "iopub.execute_input": "2022-07-17T06:23:22.725075Z",
     "iopub.status.busy": "2022-07-17T06:23:22.724776Z",
     "iopub.status.idle": "2022-07-17T06:23:23.775072Z",
     "shell.execute_reply": "2022-07-17T06:23:23.773939Z",
     "shell.execute_reply.started": "2022-07-17T06:23:22.724992Z"
    },
    "scrolled": true,
    "tags": []
   },
   "outputs": [],
   "source": [
    "# 解压文件并移除多余的目录\n",
    "! unzip /home/aistudio/data/data105746/train.zip -d /home/aistudio/data/steel\n",
    "# !rm -r /home/aistudio/data/steel/__MACOSX\n",
    "! unzip /home/aistudio/data/data105747/test.zip -d /home/aistudio/data/steel\n",
    "# !rm -r /home/aistudio/data/steel/__MACOSX"
   ]
  },
  {
   "cell_type": "code",
   "execution_count": null,
   "metadata": {},
   "outputs": [],
   "source": [
    "# 修改文件名字 JPEGImages  Annotations\n",
    "!mv ./data/steel/train/ANNOTATIONS  ./data/steel/train/Annotations\n",
    "!mv ./data/steel/train/IMAGES  ./data/steel/train/JPEGImages"
   ]
  },
  {
   "cell_type": "markdown",
   "metadata": {},
   "source": [
    "使用paddleX拆分数据集"
   ]
  },
  {
   "cell_type": "code",
   "execution_count": null,
   "metadata": {
    "execution": {
     "iopub.execute_input": "2022-07-17T06:28:34.998952Z",
     "iopub.status.busy": "2022-07-17T06:28:34.998211Z",
     "iopub.status.idle": "2022-07-17T06:28:40.431124Z",
     "shell.execute_reply": "2022-07-17T06:28:40.430019Z",
     "shell.execute_reply.started": "2022-07-17T06:28:34.998920Z"
    },
    "scrolled": true,
    "tags": []
   },
   "outputs": [],
   "source": [
    "\n",
    "!paddlex --split_dataset --format VOC --dataset_dir /home/aistudio/data/steel/train --val_value 0.001 --test_value 0.0"
   ]
  },
  {
   "cell_type": "code",
   "execution_count": null,
   "metadata": {
    "execution": {
     "iopub.execute_input": "2022-07-17T06:29:59.953077Z",
     "iopub.status.busy": "2022-07-17T06:29:59.952731Z",
     "iopub.status.idle": "2022-07-17T06:30:09.270729Z",
     "shell.execute_reply": "2022-07-17T06:30:09.269526Z",
     "shell.execute_reply.started": "2022-07-17T06:29:59.953048Z"
    },
    "scrolled": true,
    "tags": []
   },
   "outputs": [],
   "source": [
    "# 进入PaddleDetection\n",
    "%cd /home/aistudio/work/PaddleDetection\n",
    "# 安装其它依赖\n",
    "!pip install -r /home/aistudio/work/PaddleDetection/requirements.txt  \n",
    "# 临时环境安装\n",
    "!pip install pycocotools -i https://mirror.baidu.com/pypi/simple\n",
    "!pip install lap -i https://mirror.baidu.com/pypi/simple"
   ]
  },
  {
   "cell_type": "code",
   "execution_count": null,
   "metadata": {
    "execution": {
     "iopub.execute_input": "2022-07-17T06:30:20.007503Z",
     "iopub.status.busy": "2022-07-17T06:30:20.006992Z",
     "iopub.status.idle": "2022-07-17T06:30:21.619405Z",
     "shell.execute_reply": "2022-07-17T06:30:21.617883Z",
     "shell.execute_reply.started": "2022-07-17T06:30:20.007472Z"
    },
    "scrolled": true,
    "tags": []
   },
   "outputs": [],
   "source": [
    "%cd /home/aistudio/work/PaddleDetection/\n",
    "#转换train\n",
    "!python tools/x2coco.py \\\n",
    "        --dataset_type voc \\\n",
    "        --voc_anno_dir /home/aistudio/data/steel/train/ \\\n",
    "--voc_anno_list /home/aistudio/data/steel/train/train_list.txt \\\n",
    "--voc_label_list /home/aistudio/data/steel/train/labels.txt \\\n",
    "--voc_out_name /home/aistudio/data/steel/train/voc_train.json\n",
    "\n",
    "#转换test\n",
    "!python tools/x2coco.py \\\n",
    "        --dataset_type voc \\\n",
    "        --voc_anno_dir /home/aistudio/data/steel/train/ \\\n",
    "--voc_anno_list /home/aistudio/data/steel/train/val_list.txt \\\n",
    "--voc_label_list /home/aistudio/data/steel/train/labels.txt \\\n",
    "--voc_out_name /home/aistudio/data/steel/train/voc_val.json\n",
    "\n",
    "!rm -r /home/aistudio/data/steel/train/Annotations/*\n",
    "!mv /home/aistudio/data/steel/train/*.json /home/aistudio/data/steel/train/Annotations/"
   ]
  },
  {
   "cell_type": "markdown",
   "metadata": {},
   "source": [
    "部分参数按照提交的两个.yml文件进行修改，"
   ]
  },
  {
   "cell_type": "code",
   "execution_count": null,
   "metadata": {
    "scrolled": true
   },
   "outputs": [],
   "source": [
    "# 训练\n",
    "!python tools/train.py -c configs/faster_rcnn/faster_rcnn_swin_tiny_fpn_3x_coco.yml --use_vdl=true --vdl_log_dir=vdl_dir/scalar --eval"
   ]
  },
  {
   "cell_type": "markdown",
   "metadata": {},
   "source": [
    "生成比赛数据，运行的最优模型已提交，需要修改一下模型路径"
   ]
  },
  {
   "cell_type": "code",
   "execution_count": null,
   "metadata": {
    "execution": {
     "iopub.execute_input": "2022-07-17T06:41:10.804598Z",
     "iopub.status.busy": "2022-07-17T06:41:10.803493Z",
     "iopub.status.idle": "2022-07-17T06:41:17.571068Z",
     "shell.execute_reply": "2022-07-17T06:41:17.570039Z",
     "shell.execute_reply.started": "2022-07-17T06:41:10.804564Z"
    },
    "scrolled": true,
    "tags": []
   },
   "outputs": [],
   "source": [
    "# 推理图像和生成txt文件\n",
    "!python tools/infer.py -c  configs/faster_rcnn/faster_rcnn_swin_tiny_fpn_3x_coco.yml \\\n",
    "-o weights=/home/aistudio/model/model \\\n",
    "--infer_dir=/home/aistudio/data/steel/test/IMAGES/ \\\n",
    "--output_dir=/home/aistudio/data/steel/infer_output\\\n",
    "--draw_threshold=0.005 --save_txt=True"
   ]
  },
  {
   "cell_type": "code",
   "execution_count": null,
   "metadata": {
    "scrolled": true
   },
   "outputs": [],
   "source": [
    "import csv\n",
    "import os\n",
    "headers = ['image_id','bbox','category_id','confidence']\n",
    "classList = ['crazing','inclusion','pitted_surface','scratches','patches','rolled-in_scale']\n",
    "rows = []\n",
    "\n",
    "rootdir = '/home/aistudio/data/steel/infer_output'\n",
    "list = os.listdir(rootdir) #列出文件夹下所有的目录与文件\n",
    "for i in range(0,len(list)):\n",
    "       path = os.path.join(rootdir,list[i])\n",
    "       if os.path.isfile(path) and path.endswith('txt'):\n",
    "           txtFile = open(path)\n",
    "           print(path)\n",
    "           result = txtFile.readlines()\n",
    "           for r in result:\n",
    "               ls = r.split(' ')\n",
    "               Cls = ls[0]\n",
    "               sco = float(ls[1])\n",
    "               xmin = float(ls[2])\n",
    "               ymin = float(ls[3])\n",
    "               w = float(ls[4])\n",
    "               h = float(ls[5])\n",
    "               xmax = xmin+w\n",
    "               ymax = ymin+h\n",
    "               clsID = classList.index(Cls)\n",
    "               imgID = list[i][:-4]\n",
    "               row = [imgID,[xmin,ymin,xmax,ymax],clsID,sco]\n",
    "               rows.append(row)\n",
    "with open('submission.csv','w')as f:\n",
    "    f_csv = csv.writer(f)\n",
    "    f_csv.writerow(headers)\n",
    "    f_csv.writerows(rows)"
   ]
  },
  {
   "cell_type": "code",
   "execution_count": null,
   "metadata": {
    "scrolled": true
   },
   "outputs": [],
   "source": [
    "import pandas as pd\n",
    "datafile = pd.read_csv('/home/aistudio/work/PaddleDetection/submission.csv')\n",
    "# 按照列值排序\n",
    "data = datafile.sort_values(by=\"image_id\", ascending=True)\n",
    "data.to_csv('submission_final.csv', mode='a+', index=False)"
   ]
  }
 ],
 "metadata": {
  "kernelspec": {
   "display_name": "Python 3",
   "language": "python",
   "name": "py35-paddle1.2.0"
  },
  "language_info": {
   "codemirror_mode": {
    "name": "ipython",
    "version": 3
   },
   "file_extension": ".py",
   "mimetype": "text/x-python",
   "name": "python",
   "nbconvert_exporter": "python",
   "pygments_lexer": "ipython3",
   "version": "3.7.4"
  },
  "toc-autonumbering": false,
  "toc-showcode": false,
  "toc-showmarkdowntxt": false,
  "toc-showtags": false
 },
 "nbformat": 4,
 "nbformat_minor": 4
}
